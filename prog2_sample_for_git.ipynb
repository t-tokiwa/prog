{
  "nbformat": 4,
  "nbformat_minor": 0,
  "metadata": {
    "colab": {
      "name": "prog2_sample_for_git.ipynb",
      "provenance": [],
      "authorship_tag": "ABX9TyPVw6LNIZ5jJUnOOKPakzqA",
      "include_colab_link": true
    },
    "kernelspec": {
      "name": "python3",
      "display_name": "Python 3"
    },
    "language_info": {
      "name": "python"
    }
  },
  "cells": [
    {
      "cell_type": "markdown",
      "metadata": {
        "id": "view-in-github",
        "colab_type": "text"
      },
      "source": [
        "<a href=\"https://colab.research.google.com/github/t-tokiwa/prog/blob/main/prog2_sample_for_git.ipynb\" target=\"_parent\"><img src=\"https://colab.research.google.com/assets/colab-badge.svg\" alt=\"Open In Colab\"/></a>"
      ]
    },
    {
      "cell_type": "markdown",
      "source": [
        "サンプルプログラム"
      ],
      "metadata": {
        "id": "KmU8qNidZ7KY"
      }
    },
    {
      "cell_type": "code",
      "execution_count": null,
      "metadata": {
        "id": "q-pBHlrsZ6GO"
      },
      "outputs": [],
      "source": [
        "age = input('あなたの年齢を教えてください ')\n",
        "#age = int(age) #int関数は文字列を引数として受け取るので，文字列を整数に変換するint関数を利用する必要があります\n",
        "\n",
        "if age <= 10 :\n",
        "  print('あなたは10歳以下です．')\n",
        "else:\n",
        "  print('あなたは10歳より上です．')"
      ]
    }
  ]
}